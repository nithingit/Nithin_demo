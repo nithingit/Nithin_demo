{
  "nbformat": 4,
  "nbformat_minor": 0,
  "metadata": {
    "colab": {
      "name": "DL_Assignment1_Sentiment.ipynb",
      "provenance": [],
      "collapsed_sections": [],
      "toc_visible": true,
      "authorship_tag": "ABX9TyMcZKr9oRBoDaF2MuNejwwi",
      "include_colab_link": true
    },
    "kernelspec": {
      "name": "python3",
      "display_name": "Python 3"
    },
    "language_info": {
      "name": "python"
    },
    "accelerator": "GPU"
  },
  "cells": [
    {
      "cell_type": "markdown",
      "metadata": {
        "id": "view-in-github",
        "colab_type": "text"
      },
      "source": [
        "<a href=\"https://colab.research.google.com/github/nithingit/Nithin_demo/blob/master/DL_Assignment1_Sentiment.ipynb\" target=\"_parent\"><img src=\"https://colab.research.google.com/assets/colab-badge.svg\" alt=\"Open In Colab\"/></a>"
      ]
    },
    {
      "cell_type": "markdown",
      "metadata": {
        "id": "0UbFqo-DvQYQ"
      },
      "source": [
        "# *Import Libraries*"
      ]
    },
    {
      "cell_type": "code",
      "metadata": {
        "id": "G4NxCJHtz4J9"
      },
      "source": [
        "import numpy as np\n",
        "import pandas as pd\n",
        "import tensorflow as tf\n",
        "import tensorflow_hub as hub\n",
        "from tensorflow import keras\n",
        "from sklearn.model_selection import train_test_split\n",
        "from sklearn.preprocessing import LabelEncoder\n",
        "from sklearn.metrics import confusion_matrix\n",
        "from sklearn.metrics import accuracy_score\n",
        "import nltk\n",
        "from nltk.corpus import stopwords\n",
        "import spacy\n",
        "import re\n",
        "import matplotlib.pyplot as plt\n",
        "import itertools"
      ],
      "execution_count": 81,
      "outputs": []
    },
    {
      "cell_type": "code",
      "metadata": {
        "colab": {
          "base_uri": "https://localhost:8080/"
        },
        "id": "xNLt3EbFvd_R",
        "outputId": "e4e4ac2a-2b1f-4b80-8d35-865280357e6b"
      },
      "source": [
        "tf.config.list_physical_devices('GPU')"
      ],
      "execution_count": 82,
      "outputs": [
        {
          "output_type": "execute_result",
          "data": {
            "text/plain": [
              "[PhysicalDevice(name='/physical_device:GPU:0', device_type='GPU')]"
            ]
          },
          "metadata": {
            "tags": []
          },
          "execution_count": 82
        }
      ]
    },
    {
      "cell_type": "code",
      "metadata": {
        "colab": {
          "base_uri": "https://localhost:8080/"
        },
        "id": "M7KRZ0pZO7Er",
        "outputId": "fe56114d-2cbd-4c3a-9ed5-246e65ca12a0"
      },
      "source": [
        "!nvidia-smi"
      ],
      "execution_count": 83,
      "outputs": [
        {
          "output_type": "stream",
          "text": [
            "Thu May 20 17:11:28 2021       \n",
            "+-----------------------------------------------------------------------------+\n",
            "| NVIDIA-SMI 465.19.01    Driver Version: 460.32.03    CUDA Version: 11.2     |\n",
            "|-------------------------------+----------------------+----------------------+\n",
            "| GPU  Name        Persistence-M| Bus-Id        Disp.A | Volatile Uncorr. ECC |\n",
            "| Fan  Temp  Perf  Pwr:Usage/Cap|         Memory-Usage | GPU-Util  Compute M. |\n",
            "|                               |                      |               MIG M. |\n",
            "|===============================+======================+======================|\n",
            "|   0  Tesla T4            Off  | 00000000:00:04.0 Off |                    0 |\n",
            "| N/A   51C    P0    28W /  70W |   4478MiB / 15109MiB |      0%      Default |\n",
            "|                               |                      |                  N/A |\n",
            "+-------------------------------+----------------------+----------------------+\n",
            "                                                                               \n",
            "+-----------------------------------------------------------------------------+\n",
            "| Processes:                                                                  |\n",
            "|  GPU   GI   CI        PID   Type   Process name                  GPU Memory |\n",
            "|        ID   ID                                                   Usage      |\n",
            "|=============================================================================|\n",
            "+-----------------------------------------------------------------------------+\n"
          ],
          "name": "stdout"
        }
      ]
    },
    {
      "cell_type": "code",
      "metadata": {
        "colab": {
          "base_uri": "https://localhost:8080/"
        },
        "id": "73fKUW4_vvZm",
        "outputId": "b7587c88-fc52-481d-f70e-18203c352ce0"
      },
      "source": [
        "# The spacy module needs to be installed\n",
        "!pip install spacy\n",
        "\n",
        "# The english module needs to be downloaded if not already\n",
        "!python3 -m spacy download en"
      ],
      "execution_count": 84,
      "outputs": [
        {
          "output_type": "stream",
          "text": [
            "Requirement already satisfied: spacy in /usr/local/lib/python3.7/dist-packages (2.2.4)\n",
            "Requirement already satisfied: numpy>=1.15.0 in /usr/local/lib/python3.7/dist-packages (from spacy) (1.19.5)\n",
            "Requirement already satisfied: thinc==7.4.0 in /usr/local/lib/python3.7/dist-packages (from spacy) (7.4.0)\n",
            "Requirement already satisfied: plac<1.2.0,>=0.9.6 in /usr/local/lib/python3.7/dist-packages (from spacy) (1.1.3)\n",
            "Requirement already satisfied: blis<0.5.0,>=0.4.0 in /usr/local/lib/python3.7/dist-packages (from spacy) (0.4.1)\n",
            "Requirement already satisfied: murmurhash<1.1.0,>=0.28.0 in /usr/local/lib/python3.7/dist-packages (from spacy) (1.0.5)\n",
            "Requirement already satisfied: tqdm<5.0.0,>=4.38.0 in /usr/local/lib/python3.7/dist-packages (from spacy) (4.41.1)\n",
            "Requirement already satisfied: preshed<3.1.0,>=3.0.2 in /usr/local/lib/python3.7/dist-packages (from spacy) (3.0.5)\n",
            "Requirement already satisfied: setuptools in /usr/local/lib/python3.7/dist-packages (from spacy) (56.1.0)\n",
            "Requirement already satisfied: srsly<1.1.0,>=1.0.2 in /usr/local/lib/python3.7/dist-packages (from spacy) (1.0.5)\n",
            "Requirement already satisfied: cymem<2.1.0,>=2.0.2 in /usr/local/lib/python3.7/dist-packages (from spacy) (2.0.5)\n",
            "Requirement already satisfied: wasabi<1.1.0,>=0.4.0 in /usr/local/lib/python3.7/dist-packages (from spacy) (0.8.2)\n",
            "Requirement already satisfied: requests<3.0.0,>=2.13.0 in /usr/local/lib/python3.7/dist-packages (from spacy) (2.23.0)\n",
            "Requirement already satisfied: catalogue<1.1.0,>=0.0.7 in /usr/local/lib/python3.7/dist-packages (from spacy) (1.0.0)\n",
            "Requirement already satisfied: urllib3!=1.25.0,!=1.25.1,<1.26,>=1.21.1 in /usr/local/lib/python3.7/dist-packages (from requests<3.0.0,>=2.13.0->spacy) (1.24.3)\n",
            "Requirement already satisfied: certifi>=2017.4.17 in /usr/local/lib/python3.7/dist-packages (from requests<3.0.0,>=2.13.0->spacy) (2020.12.5)\n",
            "Requirement already satisfied: idna<3,>=2.5 in /usr/local/lib/python3.7/dist-packages (from requests<3.0.0,>=2.13.0->spacy) (2.10)\n",
            "Requirement already satisfied: chardet<4,>=3.0.2 in /usr/local/lib/python3.7/dist-packages (from requests<3.0.0,>=2.13.0->spacy) (3.0.4)\n",
            "Requirement already satisfied: importlib-metadata>=0.20; python_version < \"3.8\" in /usr/local/lib/python3.7/dist-packages (from catalogue<1.1.0,>=0.0.7->spacy) (4.0.1)\n",
            "Requirement already satisfied: zipp>=0.5 in /usr/local/lib/python3.7/dist-packages (from importlib-metadata>=0.20; python_version < \"3.8\"->catalogue<1.1.0,>=0.0.7->spacy) (3.4.1)\n",
            "Requirement already satisfied: typing-extensions>=3.6.4; python_version < \"3.8\" in /usr/local/lib/python3.7/dist-packages (from importlib-metadata>=0.20; python_version < \"3.8\"->catalogue<1.1.0,>=0.0.7->spacy) (3.7.4.3)\n",
            "Requirement already satisfied: en_core_web_sm==2.2.5 from https://github.com/explosion/spacy-models/releases/download/en_core_web_sm-2.2.5/en_core_web_sm-2.2.5.tar.gz#egg=en_core_web_sm==2.2.5 in /usr/local/lib/python3.7/dist-packages (2.2.5)\n",
            "Requirement already satisfied: spacy>=2.2.2 in /usr/local/lib/python3.7/dist-packages (from en_core_web_sm==2.2.5) (2.2.4)\n",
            "Requirement already satisfied: tqdm<5.0.0,>=4.38.0 in /usr/local/lib/python3.7/dist-packages (from spacy>=2.2.2->en_core_web_sm==2.2.5) (4.41.1)\n",
            "Requirement already satisfied: numpy>=1.15.0 in /usr/local/lib/python3.7/dist-packages (from spacy>=2.2.2->en_core_web_sm==2.2.5) (1.19.5)\n",
            "Requirement already satisfied: plac<1.2.0,>=0.9.6 in /usr/local/lib/python3.7/dist-packages (from spacy>=2.2.2->en_core_web_sm==2.2.5) (1.1.3)\n",
            "Requirement already satisfied: blis<0.5.0,>=0.4.0 in /usr/local/lib/python3.7/dist-packages (from spacy>=2.2.2->en_core_web_sm==2.2.5) (0.4.1)\n",
            "Requirement already satisfied: preshed<3.1.0,>=3.0.2 in /usr/local/lib/python3.7/dist-packages (from spacy>=2.2.2->en_core_web_sm==2.2.5) (3.0.5)\n",
            "Requirement already satisfied: setuptools in /usr/local/lib/python3.7/dist-packages (from spacy>=2.2.2->en_core_web_sm==2.2.5) (56.1.0)\n",
            "Requirement already satisfied: thinc==7.4.0 in /usr/local/lib/python3.7/dist-packages (from spacy>=2.2.2->en_core_web_sm==2.2.5) (7.4.0)\n",
            "Requirement already satisfied: requests<3.0.0,>=2.13.0 in /usr/local/lib/python3.7/dist-packages (from spacy>=2.2.2->en_core_web_sm==2.2.5) (2.23.0)\n",
            "Requirement already satisfied: catalogue<1.1.0,>=0.0.7 in /usr/local/lib/python3.7/dist-packages (from spacy>=2.2.2->en_core_web_sm==2.2.5) (1.0.0)\n",
            "Requirement already satisfied: cymem<2.1.0,>=2.0.2 in /usr/local/lib/python3.7/dist-packages (from spacy>=2.2.2->en_core_web_sm==2.2.5) (2.0.5)\n",
            "Requirement already satisfied: wasabi<1.1.0,>=0.4.0 in /usr/local/lib/python3.7/dist-packages (from spacy>=2.2.2->en_core_web_sm==2.2.5) (0.8.2)\n",
            "Requirement already satisfied: srsly<1.1.0,>=1.0.2 in /usr/local/lib/python3.7/dist-packages (from spacy>=2.2.2->en_core_web_sm==2.2.5) (1.0.5)\n",
            "Requirement already satisfied: murmurhash<1.1.0,>=0.28.0 in /usr/local/lib/python3.7/dist-packages (from spacy>=2.2.2->en_core_web_sm==2.2.5) (1.0.5)\n",
            "Requirement already satisfied: urllib3!=1.25.0,!=1.25.1,<1.26,>=1.21.1 in /usr/local/lib/python3.7/dist-packages (from requests<3.0.0,>=2.13.0->spacy>=2.2.2->en_core_web_sm==2.2.5) (1.24.3)\n",
            "Requirement already satisfied: chardet<4,>=3.0.2 in /usr/local/lib/python3.7/dist-packages (from requests<3.0.0,>=2.13.0->spacy>=2.2.2->en_core_web_sm==2.2.5) (3.0.4)\n",
            "Requirement already satisfied: certifi>=2017.4.17 in /usr/local/lib/python3.7/dist-packages (from requests<3.0.0,>=2.13.0->spacy>=2.2.2->en_core_web_sm==2.2.5) (2020.12.5)\n",
            "Requirement already satisfied: idna<3,>=2.5 in /usr/local/lib/python3.7/dist-packages (from requests<3.0.0,>=2.13.0->spacy>=2.2.2->en_core_web_sm==2.2.5) (2.10)\n",
            "Requirement already satisfied: importlib-metadata>=0.20; python_version < \"3.8\" in /usr/local/lib/python3.7/dist-packages (from catalogue<1.1.0,>=0.0.7->spacy>=2.2.2->en_core_web_sm==2.2.5) (4.0.1)\n",
            "Requirement already satisfied: zipp>=0.5 in /usr/local/lib/python3.7/dist-packages (from importlib-metadata>=0.20; python_version < \"3.8\"->catalogue<1.1.0,>=0.0.7->spacy>=2.2.2->en_core_web_sm==2.2.5) (3.4.1)\n",
            "Requirement already satisfied: typing-extensions>=3.6.4; python_version < \"3.8\" in /usr/local/lib/python3.7/dist-packages (from importlib-metadata>=0.20; python_version < \"3.8\"->catalogue<1.1.0,>=0.0.7->spacy>=2.2.2->en_core_web_sm==2.2.5) (3.7.4.3)\n",
            "\u001b[38;5;2m✔ Download and installation successful\u001b[0m\n",
            "You can now load the model via spacy.load('en_core_web_sm')\n",
            "\u001b[38;5;2m✔ Linking successful\u001b[0m\n",
            "/usr/local/lib/python3.7/dist-packages/en_core_web_sm -->\n",
            "/usr/local/lib/python3.7/dist-packages/spacy/data/en\n",
            "You can now load the model via spacy.load('en')\n"
          ],
          "name": "stdout"
        }
      ]
    },
    {
      "cell_type": "code",
      "metadata": {
        "colab": {
          "base_uri": "https://localhost:8080/"
        },
        "id": "SWRd3qhDUNwX",
        "outputId": "7d7275b2-75cf-4c30-bf5b-e595a90b46fe"
      },
      "source": [
        "from google.colab import drive\n",
        "\n",
        "drive.mount('/content/gdrive')"
      ],
      "execution_count": 85,
      "outputs": [
        {
          "output_type": "stream",
          "text": [
            "Drive already mounted at /content/gdrive; to attempt to forcibly remount, call drive.mount(\"/content/gdrive\", force_remount=True).\n"
          ],
          "name": "stdout"
        }
      ]
    },
    {
      "cell_type": "markdown",
      "metadata": {
        "id": "MOQTS13GxQaE"
      },
      "source": [
        "# *Import tweet Dataset*"
      ]
    },
    {
      "cell_type": "code",
      "metadata": {
        "id": "s0Ry2qoOakt3"
      },
      "source": [
        "# Read the dataset from google drive\n",
        "df = pd.read_csv('/content/gdrive/My Drive/training.1600000.processed.noemoticon.csv', encoding = \"ISO-8859-1\", names = ['target','id','date','flag','user','text'], engine=\"python\")"
      ],
      "execution_count": 86,
      "outputs": []
    },
    {
      "cell_type": "code",
      "metadata": {
        "colab": {
          "base_uri": "https://localhost:8080/",
          "height": 204
        },
        "id": "5KaqttoydM_d",
        "outputId": "b85d254d-a1c9-4eff-fb9f-44677c131039"
      },
      "source": [
        "# Print first few rows of dataset\n",
        "df.head()"
      ],
      "execution_count": 87,
      "outputs": [
        {
          "output_type": "execute_result",
          "data": {
            "text/html": [
              "<div>\n",
              "<style scoped>\n",
              "    .dataframe tbody tr th:only-of-type {\n",
              "        vertical-align: middle;\n",
              "    }\n",
              "\n",
              "    .dataframe tbody tr th {\n",
              "        vertical-align: top;\n",
              "    }\n",
              "\n",
              "    .dataframe thead th {\n",
              "        text-align: right;\n",
              "    }\n",
              "</style>\n",
              "<table border=\"1\" class=\"dataframe\">\n",
              "  <thead>\n",
              "    <tr style=\"text-align: right;\">\n",
              "      <th></th>\n",
              "      <th>target</th>\n",
              "      <th>id</th>\n",
              "      <th>date</th>\n",
              "      <th>flag</th>\n",
              "      <th>user</th>\n",
              "      <th>text</th>\n",
              "    </tr>\n",
              "  </thead>\n",
              "  <tbody>\n",
              "    <tr>\n",
              "      <th>0</th>\n",
              "      <td>0</td>\n",
              "      <td>1467810369</td>\n",
              "      <td>Mon Apr 06 22:19:45 PDT 2009</td>\n",
              "      <td>NO_QUERY</td>\n",
              "      <td>_TheSpecialOne_</td>\n",
              "      <td>@switchfoot http://twitpic.com/2y1zl - Awww, t...</td>\n",
              "    </tr>\n",
              "    <tr>\n",
              "      <th>1</th>\n",
              "      <td>0</td>\n",
              "      <td>1467810672</td>\n",
              "      <td>Mon Apr 06 22:19:49 PDT 2009</td>\n",
              "      <td>NO_QUERY</td>\n",
              "      <td>scotthamilton</td>\n",
              "      <td>is upset that he can't update his Facebook by ...</td>\n",
              "    </tr>\n",
              "    <tr>\n",
              "      <th>2</th>\n",
              "      <td>0</td>\n",
              "      <td>1467810917</td>\n",
              "      <td>Mon Apr 06 22:19:53 PDT 2009</td>\n",
              "      <td>NO_QUERY</td>\n",
              "      <td>mattycus</td>\n",
              "      <td>@Kenichan I dived many times for the ball. Man...</td>\n",
              "    </tr>\n",
              "    <tr>\n",
              "      <th>3</th>\n",
              "      <td>0</td>\n",
              "      <td>1467811184</td>\n",
              "      <td>Mon Apr 06 22:19:57 PDT 2009</td>\n",
              "      <td>NO_QUERY</td>\n",
              "      <td>ElleCTF</td>\n",
              "      <td>my whole body feels itchy and like its on fire</td>\n",
              "    </tr>\n",
              "    <tr>\n",
              "      <th>4</th>\n",
              "      <td>0</td>\n",
              "      <td>1467811193</td>\n",
              "      <td>Mon Apr 06 22:19:57 PDT 2009</td>\n",
              "      <td>NO_QUERY</td>\n",
              "      <td>Karoli</td>\n",
              "      <td>@nationwideclass no, it's not behaving at all....</td>\n",
              "    </tr>\n",
              "  </tbody>\n",
              "</table>\n",
              "</div>"
            ],
            "text/plain": [
              "   target  ...                                               text\n",
              "0       0  ...  @switchfoot http://twitpic.com/2y1zl - Awww, t...\n",
              "1       0  ...  is upset that he can't update his Facebook by ...\n",
              "2       0  ...  @Kenichan I dived many times for the ball. Man...\n",
              "3       0  ...    my whole body feels itchy and like its on fire \n",
              "4       0  ...  @nationwideclass no, it's not behaving at all....\n",
              "\n",
              "[5 rows x 6 columns]"
            ]
          },
          "metadata": {
            "tags": []
          },
          "execution_count": 87
        }
      ]
    },
    {
      "cell_type": "code",
      "metadata": {
        "colab": {
          "base_uri": "https://localhost:8080/"
        },
        "id": "EKEthupdbhOI",
        "outputId": "8b78fc4d-a733-456f-ea1d-8f7ea3742eef"
      },
      "source": [
        "# Check the shape of dataset\n",
        "df.shape"
      ],
      "execution_count": 88,
      "outputs": [
        {
          "output_type": "execute_result",
          "data": {
            "text/plain": [
              "(1600000, 6)"
            ]
          },
          "metadata": {
            "tags": []
          },
          "execution_count": 88
        }
      ]
    },
    {
      "cell_type": "markdown",
      "metadata": {
        "id": "fprrteiiPfXm"
      },
      "source": [
        "# *Data Visualization*"
      ]
    },
    {
      "cell_type": "code",
      "metadata": {
        "colab": {
          "base_uri": "https://localhost:8080/"
        },
        "id": "NsuUJJqVdA-e",
        "outputId": "1dc2a9a0-fa8e-4eba-80d4-fedc53eab00d"
      },
      "source": [
        "# Print at least two movie reviews from each class of the dataset, for a sanity check that labels match the text\n",
        "\n",
        "print(\"Negative reviews\\n\")\n",
        "df_new = df[df['target'] == 0][:2]\n",
        "  \n",
        "print(df_new['text'])\n",
        "\n",
        "print(\"\\n\")\n",
        "\n",
        "print(\"Positive reviews\\n\")\n",
        "df_new1 = df[df['target'] == 4][:2]\n",
        "  \n",
        "print(df_new1['text'])"
      ],
      "execution_count": 89,
      "outputs": [
        {
          "output_type": "stream",
          "text": [
            "Negative reviews\n",
            "\n",
            "0    @switchfoot http://twitpic.com/2y1zl - Awww, t...\n",
            "1    is upset that he can't update his Facebook by ...\n",
            "Name: text, dtype: object\n",
            "\n",
            "\n",
            "Positive reviews\n",
            "\n",
            "800000         I LOVE @Health4UandPets u guys r the best!! \n",
            "800001    im meeting up with one of my besties tonight! ...\n",
            "Name: text, dtype: object\n"
          ],
          "name": "stdout"
        }
      ]
    },
    {
      "cell_type": "code",
      "metadata": {
        "colab": {
          "base_uri": "https://localhost:8080/",
          "height": 315
        },
        "id": "J1q1rdYhRi8G",
        "outputId": "acdcb2b6-79c8-4b0b-ad5d-8fb37e5a5cf9"
      },
      "source": [
        "# Plot a bar graph of class distribution in dataset. Each bar depicts the number of tweets belonging to a particular sentiment\n",
        "df.hist([\"target\"])"
      ],
      "execution_count": 90,
      "outputs": [
        {
          "output_type": "execute_result",
          "data": {
            "text/plain": [
              "array([[<matplotlib.axes._subplots.AxesSubplot object at 0x7fa76f97ae90>]],\n",
              "      dtype=object)"
            ]
          },
          "metadata": {
            "tags": []
          },
          "execution_count": 90
        },
        {
          "output_type": "display_data",
          "data": {
            "image/png": "[encoded data removed]",
            "text/plain": [
              "<Figure size 432x288 with 1 Axes>"
            ]
          },
          "metadata": {
            "tags": [],
            "needs_background": "light"
          }
        }
      ]
    },
    {
      "cell_type": "markdown",
      "metadata": {
        "id": "5hMedm63Pw7S"
      },
      "source": [
        "# *Data Pre-processing*"
      ]
    },
    {
      "cell_type": "code",
      "metadata": {
        "colab": {
          "base_uri": "https://localhost:8080/"
        },
        "id": "xTGN3efFP698",
        "outputId": "4cdcc02e-bd3c-4965-a9e1-efe7abec221b"
      },
      "source": [
        "# Basic Info on the dataset\n",
        "df.info()"
      ],
      "execution_count": 91,
      "outputs": [
        {
          "output_type": "stream",
          "text": [
            "<class 'pandas.core.frame.DataFrame'>\n",
            "RangeIndex: 1600000 entries, 0 to 1599999\n",
            "Data columns (total 6 columns):\n",
            " #   Column  Non-Null Count    Dtype \n",
            "---  ------  --------------    ----- \n",
            " 0   target  1600000 non-null  int64 \n",
            " 1   id      1600000 non-null  int64 \n",
            " 2   date    1600000 non-null  object\n",
            " 3   flag    1600000 non-null  object\n",
            " 4   user    1600000 non-null  object\n",
            " 5   text    1600000 non-null  object\n",
            "dtypes: int64(2), object(4)\n",
            "memory usage: 73.2+ MB\n"
          ],
          "name": "stdout"
        }
      ]
    },
    {
      "cell_type": "code",
      "metadata": {
        "id": "yPdhRvlAJBcd"
      },
      "source": [
        "# Train Test Split\n",
        "\n",
        "TRAINDOC = 210000\n",
        "\n",
        "train_set =  df[['id', 'text', 'target']].sample(TRAINDOC)\n",
        "\n",
        "xtrain_set = train_set.drop(\"target\", axis=1)\n",
        "ytrain_set = train_set[['target']].copy()\n",
        "\n",
        "(X_train, X_test, y_train, y_test) = train_test_split(xtrain_set, ytrain_set, test_size= 0.3, stratify = ytrain_set, random_state = 101)"
      ],
      "execution_count": 92,
      "outputs": []
    },
    {
      "cell_type": "code",
      "metadata": {
        "colab": {
          "base_uri": "https://localhost:8080/"
        },
        "id": "DTrXeCLCzmyF",
        "outputId": "37fe6740-030a-4185-b582-458af47399fd"
      },
      "source": [
        "# Print the shape of train and test data\n",
        "\n",
        "print('Train dataset shape: {}'.format(X_train.shape))\n",
        "print('Test dataset shape: {}'.format(X_test.shape))"
      ],
      "execution_count": 93,
      "outputs": [
        {
          "output_type": "stream",
          "text": [
            "Train dataset shape: (147000, 2)\n",
            "Test dataset shape: (63000, 2)\n"
          ],
          "name": "stdout"
        }
      ]
    },
    {
      "cell_type": "code",
      "metadata": {
        "id": "u-rypyowz0nc"
      },
      "source": [
        "# Function for tweet preprocessing\n",
        "\n",
        "def text_processing(tweet):\n",
        "    \n",
        "    # remove https links\n",
        "    clean_tweet = re.sub(r'http\\S+', '', tweet)\n",
        "    # remove punctuation marks\n",
        "    punctuation = '!\"#$%&()*+-/:;<=>?@[\\\\]^_`{|}~'\n",
        "    clean_tweet = ''.join(ch for ch in clean_tweet if ch not in set(punctuation))\n",
        "    # convert text to lowercase\n",
        "    clean_tweet = clean_tweet.lower()\n",
        "    # remove numbers\n",
        "    clean_tweet = re.sub('\\d', ' ', clean_tweet)\n",
        "    # remove whitespaces\n",
        "    clean_tweet = ' '.join(clean_tweet.split())\n",
        "    return clean_tweet"
      ],
      "execution_count": 94,
      "outputs": []
    },
    {
      "cell_type": "code",
      "metadata": {
        "id": "NYdvXOmYz8hk"
      },
      "source": [
        "# import the english language model from spacy'\n",
        "nlp = spacy.load('en', disable=['parser', 'ner'])\n",
        "\n",
        "# function to lemmatize text\n",
        "def lemmatization(tweets):\n",
        "    lemma_tweet = []\n",
        "    for i in tweets:\n",
        "        t = [token.lemma_ for token in nlp(i)]\n",
        "        lemma_tweet.append(' '.join(t))\n",
        "    return lemma_tweet"
      ],
      "execution_count": 95,
      "outputs": []
    },
    {
      "cell_type": "code",
      "metadata": {
        "colab": {
          "base_uri": "https://localhost:8080/"
        },
        "id": "X6KZF9jIz_UU",
        "outputId": "f682709a-53bb-440c-dbb2-a15f395bf49e"
      },
      "source": [
        "X_train['clean_tweet'] = X_train['text'].apply(lambda x: text_processing(x))\n",
        "X_test['clean_tweet'] = X_test['text'].apply(lambda x: text_processing(x))"
      ],
      "execution_count": 96,
      "outputs": [
        {
          "output_type": "stream",
          "text": [
            "/usr/local/lib/python3.7/dist-packages/ipykernel_launcher.py:1: SettingWithCopyWarning: \n",
            "A value is trying to be set on a copy of a slice from a DataFrame.\n",
            "Try using .loc[row_indexer,col_indexer] = value instead\n",
            "\n",
            "See the caveats in the documentation: https://pandas.pydata.org/pandas-docs/stable/user_guide/indexing.html#returning-a-view-versus-a-copy\n",
            "  \"\"\"Entry point for launching an IPython kernel.\n",
            "/usr/local/lib/python3.7/dist-packages/ipykernel_launcher.py:2: SettingWithCopyWarning: \n",
            "A value is trying to be set on a copy of a slice from a DataFrame.\n",
            "Try using .loc[row_indexer,col_indexer] = value instead\n",
            "\n",
            "See the caveats in the documentation: https://pandas.pydata.org/pandas-docs/stable/user_guide/indexing.html#returning-a-view-versus-a-copy\n",
            "  \n"
          ],
          "name": "stderr"
        }
      ]
    },
    {
      "cell_type": "code",
      "metadata": {
        "colab": {
          "base_uri": "https://localhost:8080/",
          "height": 204
        },
        "id": "07Wienp6zhHJ",
        "outputId": "45b36faf-9b6e-4014-c195-7c3812dff8f4"
      },
      "source": [
        "# Print first few rows of train set to see the clean tweet\n",
        "X_train.head()"
      ],
      "execution_count": 97,
      "outputs": [
        {
          "output_type": "execute_result",
          "data": {
            "text/html": [
              "<div>\n",
              "<style scoped>\n",
              "    .dataframe tbody tr th:only-of-type {\n",
              "        vertical-align: middle;\n",
              "    }\n",
              "\n",
              "    .dataframe tbody tr th {\n",
              "        vertical-align: top;\n",
              "    }\n",
              "\n",
              "    .dataframe thead th {\n",
              "        text-align: right;\n",
              "    }\n",
              "</style>\n",
              "<table border=\"1\" class=\"dataframe\">\n",
              "  <thead>\n",
              "    <tr style=\"text-align: right;\">\n",
              "      <th></th>\n",
              "      <th>id</th>\n",
              "      <th>text</th>\n",
              "      <th>clean_tweet</th>\n",
              "    </tr>\n",
              "  </thead>\n",
              "  <tbody>\n",
              "    <tr>\n",
              "      <th>703342</th>\n",
              "      <td>2255678630</td>\n",
              "      <td>@mileycyrus Â£50 for a concert ticket to see y...</td>\n",
              "      <td>mileycyrus â£ for a concert ticket to see you ...</td>\n",
              "    </tr>\n",
              "    <tr>\n",
              "      <th>358343</th>\n",
              "      <td>2045236992</td>\n",
              "      <td>Oh crap twiblets, my drive may have just had a...</td>\n",
              "      <td>oh crap twiblets, my drive may have just had a...</td>\n",
              "    </tr>\n",
              "    <tr>\n",
              "      <th>99309</th>\n",
              "      <td>1793583442</td>\n",
              "      <td>i wish i was going to the great escape  i wish...</td>\n",
              "      <td>i wish i was going to the great escape i wish ...</td>\n",
              "    </tr>\n",
              "    <tr>\n",
              "      <th>1263384</th>\n",
              "      <td>1999023841</td>\n",
              "      <td>@TheTrueGem Hey! Thanks, I hope you have a gre...</td>\n",
              "      <td>thetruegem hey thanks, i hope you have a great...</td>\n",
              "    </tr>\n",
              "    <tr>\n",
              "      <th>624326</th>\n",
              "      <td>2229862549</td>\n",
              "      <td>FOR THE LAST TIME; enclosed by the four walls ...</td>\n",
              "      <td>for the last time enclosed by the four walls o...</td>\n",
              "    </tr>\n",
              "  </tbody>\n",
              "</table>\n",
              "</div>"
            ],
            "text/plain": [
              "                 id  ...                                        clean_tweet\n",
              "703342   2255678630  ...  mileycyrus â£ for a concert ticket to see you ...\n",
              "358343   2045236992  ...  oh crap twiblets, my drive may have just had a...\n",
              "99309    1793583442  ...  i wish i was going to the great escape i wish ...\n",
              "1263384  1999023841  ...  thetruegem hey thanks, i hope you have a great...\n",
              "624326   2229862549  ...  for the last time enclosed by the four walls o...\n",
              "\n",
              "[5 rows x 3 columns]"
            ]
          },
          "metadata": {
            "tags": []
          },
          "execution_count": 97
        }
      ]
    },
    {
      "cell_type": "code",
      "metadata": {
        "colab": {
          "base_uri": "https://localhost:8080/"
        },
        "id": "zgZsxMSKCphL",
        "outputId": "0942bb45-f599-479f-89f3-002a67fc311f"
      },
      "source": [
        "%%time\n",
        "nltk.download('wordnet')\n",
        "lm = nltk.WordNetLemmatizer()\n",
        "def lemmatizer_on_text(data):\n",
        "    text = [lm.lemmatize(word) for word in data]\n",
        "    return data\n",
        "\n",
        "X_train['clean_tweet'] = X_train[\"clean_tweet\"].apply(lambda x: lemmatizer_on_text(x))\n",
        "X_test['clean_tweet'] = X_test[\"clean_tweet\"].apply(lambda x: lemmatizer_on_text(x))"
      ],
      "execution_count": 98,
      "outputs": [
        {
          "output_type": "stream",
          "text": [
            "[nltk_data] Downloading package wordnet to /root/nltk_data...\n",
            "[nltk_data]   Package wordnet is already up-to-date!\n"
          ],
          "name": "stdout"
        },
        {
          "output_type": "stream",
          "text": [
            "/usr/local/lib/python3.7/dist-packages/ipykernel_launcher.py:7: SettingWithCopyWarning: \n",
            "A value is trying to be set on a copy of a slice from a DataFrame.\n",
            "Try using .loc[row_indexer,col_indexer] = value instead\n",
            "\n",
            "See the caveats in the documentation: https://pandas.pydata.org/pandas-docs/stable/user_guide/indexing.html#returning-a-view-versus-a-copy\n",
            "  import sys\n"
          ],
          "name": "stderr"
        },
        {
          "output_type": "stream",
          "text": [
            "CPU times: user 46.6 s, sys: 0 ns, total: 46.6 s\n",
            "Wall time: 46.6 s\n"
          ],
          "name": "stdout"
        },
        {
          "output_type": "stream",
          "text": [
            "/usr/local/lib/python3.7/dist-packages/ipykernel_launcher.py:8: SettingWithCopyWarning: \n",
            "A value is trying to be set on a copy of a slice from a DataFrame.\n",
            "Try using .loc[row_indexer,col_indexer] = value instead\n",
            "\n",
            "See the caveats in the documentation: https://pandas.pydata.org/pandas-docs/stable/user_guide/indexing.html#returning-a-view-versus-a-copy\n",
            "  \n"
          ],
          "name": "stderr"
        }
      ]
    },
    {
      "cell_type": "code",
      "metadata": {
        "id": "mVTxZ8L-oLkf"
      },
      "source": [
        "# GET clean tweet values\n",
        "X_train = X_train[\"clean_tweet\"].values\n",
        "X_test = X_test[\"clean_tweet\"].values"
      ],
      "execution_count": 99,
      "outputs": []
    },
    {
      "cell_type": "code",
      "metadata": {
        "colab": {
          "base_uri": "https://localhost:8080/"
        },
        "id": "j0Tp7iVXoPO2",
        "outputId": "22b83952-1f2a-40e8-ed11-31b847a3a32e"
      },
      "source": [
        "label_encoder = LabelEncoder()\n",
        "y_train = label_encoder.fit_transform(y_train)\n",
        "y_test = label_encoder.fit_transform(y_test)"
      ],
      "execution_count": 100,
      "outputs": [
        {
          "output_type": "stream",
          "text": [
            "/usr/local/lib/python3.7/dist-packages/sklearn/preprocessing/_label.py:251: DataConversionWarning: A column-vector y was passed when a 1d array was expected. Please change the shape of y to (n_samples, ), for example using ravel().\n",
            "  y = column_or_1d(y, warn=True)\n"
          ],
          "name": "stderr"
        }
      ]
    },
    {
      "cell_type": "code",
      "metadata": {
        "id": "sSzbihMXoSWS"
      },
      "source": [
        "y_train = keras.utils.to_categorical(y_train)\n",
        "y_test = keras.utils.to_categorical(y_test)"
      ],
      "execution_count": 101,
      "outputs": []
    },
    {
      "cell_type": "code",
      "metadata": {
        "colab": {
          "base_uri": "https://localhost:8080/"
        },
        "id": "20noT7J9AInk",
        "outputId": "79420cb3-5c3b-4587-ca3c-ab3c6685c581"
      },
      "source": [
        "# Print first few rows of test set to see the clean tweet\n",
        "X_test.shape"
      ],
      "execution_count": 102,
      "outputs": [
        {
          "output_type": "execute_result",
          "data": {
            "text/plain": [
              "(63000,)"
            ]
          },
          "metadata": {
            "tags": []
          },
          "execution_count": 102
        }
      ]
    },
    {
      "cell_type": "code",
      "metadata": {
        "colab": {
          "base_uri": "https://localhost:8080/"
        },
        "id": "Blx2ZhXlom52",
        "outputId": "9099607d-761e-4d66-e453-6c1c697e4b81"
      },
      "source": [
        "y_train.shape"
      ],
      "execution_count": 103,
      "outputs": [
        {
          "output_type": "execute_result",
          "data": {
            "text/plain": [
              "(147000, 2)"
            ]
          },
          "metadata": {
            "tags": []
          },
          "execution_count": 103
        }
      ]
    },
    {
      "cell_type": "markdown",
      "metadata": {
        "id": "-0vP9V8nUNXO"
      },
      "source": [
        "# *Model Building*"
      ]
    },
    {
      "cell_type": "code",
      "metadata": {
        "colab": {
          "base_uri": "https://localhost:8080/"
        },
        "id": "KnPXwkMHgHa_",
        "outputId": "af956897-d8d0-49ad-a224-eae87f2cbecc"
      },
      "source": [
        "hub_layer = hub.KerasLayer(\"https://tfhub.dev/google/nnlm-en-dim128/2\",input_shape=[], output_shape=[128], dtype=tf.string)\n",
        "\n",
        "model = keras.Sequential()\n",
        "model.add(hub_layer)\n",
        "model.add(keras.layers.Dense(128, activation='relu'))\n",
        "model.add(keras.layers.Dropout(0.5))\n",
        "model.add(keras.layers.Dense(60, activation='relu'))\n",
        "model.add(keras.layers.Dense(30, activation='relu'))\n",
        "model.add(keras.layers.Dense(2, activation='softmax'))\n",
        "\n",
        "# Below indicate adding l2 regularizer\n",
        "# model.add(keras.layers.Dense(128, activation='relu',kernel_regularizer=tf.keras.regularizers.l1(0.01),activity_regularizer=tf.keras.regularizers.l2(0.01))) \n",
        "\n",
        "model.summary()"
      ],
      "execution_count": 104,
      "outputs": [
        {
          "output_type": "stream",
          "text": [
            "WARNING:tensorflow:11 out of the last 11 calls to <function recreate_function.<locals>.restored_function_body at 0x7fa5a82a25f0> triggered tf.function retracing. Tracing is expensive and the excessive number of tracings could be due to (1) creating @tf.function repeatedly in a loop, (2) passing tensors with different shapes, (3) passing Python objects instead of tensors. For (1), please define your @tf.function outside of the loop. For (2), @tf.function has experimental_relax_shapes=True option that relaxes argument shapes that can avoid unnecessary retracing. For (3), please refer to https://www.tensorflow.org/guide/function#controlling_retracing and https://www.tensorflow.org/api_docs/python/tf/function for  more details.\n"
          ],
          "name": "stdout"
        },
        {
          "output_type": "stream",
          "text": [
            "WARNING:tensorflow:11 out of the last 11 calls to <function recreate_function.<locals>.restored_function_body at 0x7fa5a82a25f0> triggered tf.function retracing. Tracing is expensive and the excessive number of tracings could be due to (1) creating @tf.function repeatedly in a loop, (2) passing tensors with different shapes, (3) passing Python objects instead of tensors. For (1), please define your @tf.function outside of the loop. For (2), @tf.function has experimental_relax_shapes=True option that relaxes argument shapes that can avoid unnecessary retracing. For (3), please refer to https://www.tensorflow.org/guide/function#controlling_retracing and https://www.tensorflow.org/api_docs/python/tf/function for  more details.\n"
          ],
          "name": "stderr"
        },
        {
          "output_type": "stream",
          "text": [
            "WARNING:tensorflow:11 out of the last 11 calls to <function recreate_function.<locals>.restored_function_body at 0x7fa5a82a2cb0> triggered tf.function retracing. Tracing is expensive and the excessive number of tracings could be due to (1) creating @tf.function repeatedly in a loop, (2) passing tensors with different shapes, (3) passing Python objects instead of tensors. For (1), please define your @tf.function outside of the loop. For (2), @tf.function has experimental_relax_shapes=True option that relaxes argument shapes that can avoid unnecessary retracing. For (3), please refer to https://www.tensorflow.org/guide/function#controlling_retracing and https://www.tensorflow.org/api_docs/python/tf/function for  more details.\n"
          ],
          "name": "stdout"
        },
        {
          "output_type": "stream",
          "text": [
            "WARNING:tensorflow:11 out of the last 11 calls to <function recreate_function.<locals>.restored_function_body at 0x7fa5a82a2cb0> triggered tf.function retracing. Tracing is expensive and the excessive number of tracings could be due to (1) creating @tf.function repeatedly in a loop, (2) passing tensors with different shapes, (3) passing Python objects instead of tensors. For (1), please define your @tf.function outside of the loop. For (2), @tf.function has experimental_relax_shapes=True option that relaxes argument shapes that can avoid unnecessary retracing. For (3), please refer to https://www.tensorflow.org/guide/function#controlling_retracing and https://www.tensorflow.org/api_docs/python/tf/function for  more details.\n"
          ],
          "name": "stderr"
        },
        {
          "output_type": "stream",
          "text": [
            "Model: \"sequential_5\"\n",
            "_________________________________________________________________\n",
            "Layer (type)                 Output Shape              Param #   \n",
            "=================================================================\n",
            "keras_layer_5 (KerasLayer)   (None, 128)               124642688 \n",
            "_________________________________________________________________\n",
            "dense_16 (Dense)             (None, 128)               16512     \n",
            "_________________________________________________________________\n",
            "dropout_4 (Dropout)          (None, 128)               0         \n",
            "_________________________________________________________________\n",
            "dense_17 (Dense)             (None, 60)                7740      \n",
            "_________________________________________________________________\n",
            "dense_18 (Dense)             (None, 30)                1830      \n",
            "_________________________________________________________________\n",
            "dense_19 (Dense)             (None, 2)                 62        \n",
            "=================================================================\n",
            "Total params: 124,668,832\n",
            "Trainable params: 26,144\n",
            "Non-trainable params: 124,642,688\n",
            "_________________________________________________________________\n"
          ],
          "name": "stdout"
        }
      ]
    },
    {
      "cell_type": "markdown",
      "metadata": {
        "id": "CogPcfbIn8LJ"
      },
      "source": [
        "# *Model Compilation*"
      ]
    },
    {
      "cell_type": "code",
      "metadata": {
        "id": "Bojf_jI6_0s6"
      },
      "source": [
        "# Compile the model with the appropriate loss function.\n",
        "\n",
        "model.compile(loss='categorical_crossentropy', optimizer='adam', metrics=['accuracy'])"
      ],
      "execution_count": 105,
      "outputs": []
    },
    {
      "cell_type": "markdown",
      "metadata": {
        "id": "FYvr8vsJowx3"
      },
      "source": [
        "# *Model Training*"
      ]
    },
    {
      "cell_type": "code",
      "metadata": {
        "colab": {
          "base_uri": "https://localhost:8080/"
        },
        "id": "65Oxxkcq0Jj1",
        "outputId": "db9d17d2-13d9-4bb9-86b4-9e792f8b1f54"
      },
      "source": [
        "%%time\n",
        "hist = model.fit(X_train, y_train, epochs=40, batch_size=128, validation_split=0.2,verbose = 1)"
      ],
      "execution_count": 106,
      "outputs": [
        {
          "output_type": "stream",
          "text": [
            "Epoch 1/40\n",
            "919/919 [==============================] - 5s 5ms/step - loss: 0.6037 - accuracy: 0.6644 - val_loss: 0.5471 - val_accuracy: 0.7204\n",
            "Epoch 2/40\n",
            "919/919 [==============================] - 5s 5ms/step - loss: 0.5571 - accuracy: 0.7116 - val_loss: 0.5393 - val_accuracy: 0.7286\n",
            "Epoch 3/40\n",
            "919/919 [==============================] - 5s 5ms/step - loss: 0.5457 - accuracy: 0.7224 - val_loss: 0.5348 - val_accuracy: 0.7312\n",
            "Epoch 4/40\n",
            "919/919 [==============================] - 5s 5ms/step - loss: 0.5375 - accuracy: 0.7262 - val_loss: 0.5289 - val_accuracy: 0.7348\n",
            "Epoch 5/40\n",
            "919/919 [==============================] - 5s 5ms/step - loss: 0.5335 - accuracy: 0.7290 - val_loss: 0.5293 - val_accuracy: 0.7324\n",
            "Epoch 6/40\n",
            "919/919 [==============================] - 5s 5ms/step - loss: 0.5277 - accuracy: 0.7324 - val_loss: 0.5237 - val_accuracy: 0.7370\n",
            "Epoch 7/40\n",
            "919/919 [==============================] - 5s 5ms/step - loss: 0.5269 - accuracy: 0.7344 - val_loss: 0.5229 - val_accuracy: 0.7370\n",
            "Epoch 8/40\n",
            "919/919 [==============================] - 5s 5ms/step - loss: 0.5219 - accuracy: 0.7390 - val_loss: 0.5230 - val_accuracy: 0.7372\n",
            "Epoch 9/40\n",
            "919/919 [==============================] - 5s 5ms/step - loss: 0.5200 - accuracy: 0.7391 - val_loss: 0.5246 - val_accuracy: 0.7364\n",
            "Epoch 10/40\n",
            "919/919 [==============================] - 5s 5ms/step - loss: 0.5187 - accuracy: 0.7402 - val_loss: 0.5212 - val_accuracy: 0.7382\n",
            "Epoch 11/40\n",
            "919/919 [==============================] - 5s 5ms/step - loss: 0.5172 - accuracy: 0.7425 - val_loss: 0.5207 - val_accuracy: 0.7397\n",
            "Epoch 12/40\n",
            "919/919 [==============================] - 5s 5ms/step - loss: 0.5111 - accuracy: 0.7457 - val_loss: 0.5205 - val_accuracy: 0.7378\n",
            "Epoch 13/40\n",
            "919/919 [==============================] - 5s 5ms/step - loss: 0.5117 - accuracy: 0.7482 - val_loss: 0.5206 - val_accuracy: 0.7382\n",
            "Epoch 14/40\n",
            "919/919 [==============================] - 5s 5ms/step - loss: 0.5081 - accuracy: 0.7489 - val_loss: 0.5192 - val_accuracy: 0.7394\n",
            "Epoch 15/40\n",
            "919/919 [==============================] - 5s 5ms/step - loss: 0.5091 - accuracy: 0.7482 - val_loss: 0.5177 - val_accuracy: 0.7402\n",
            "Epoch 16/40\n",
            "919/919 [==============================] - 5s 5ms/step - loss: 0.5080 - accuracy: 0.7479 - val_loss: 0.5187 - val_accuracy: 0.7404\n",
            "Epoch 17/40\n",
            "919/919 [==============================] - 5s 5ms/step - loss: 0.5080 - accuracy: 0.7492 - val_loss: 0.5199 - val_accuracy: 0.7406\n",
            "Epoch 18/40\n",
            "919/919 [==============================] - 5s 5ms/step - loss: 0.5047 - accuracy: 0.7505 - val_loss: 0.5183 - val_accuracy: 0.7424\n",
            "Epoch 19/40\n",
            "919/919 [==============================] - 5s 5ms/step - loss: 0.5028 - accuracy: 0.7519 - val_loss: 0.5208 - val_accuracy: 0.7401\n",
            "Epoch 20/40\n",
            "919/919 [==============================] - 5s 5ms/step - loss: 0.5046 - accuracy: 0.7493 - val_loss: 0.5177 - val_accuracy: 0.7419\n",
            "Epoch 21/40\n",
            "919/919 [==============================] - 5s 5ms/step - loss: 0.5029 - accuracy: 0.7509 - val_loss: 0.5193 - val_accuracy: 0.7390\n",
            "Epoch 22/40\n",
            "919/919 [==============================] - 5s 5ms/step - loss: 0.4985 - accuracy: 0.7551 - val_loss: 0.5203 - val_accuracy: 0.7409\n",
            "Epoch 23/40\n",
            "919/919 [==============================] - 5s 5ms/step - loss: 0.4981 - accuracy: 0.7558 - val_loss: 0.5188 - val_accuracy: 0.7415\n",
            "Epoch 24/40\n",
            "919/919 [==============================] - 5s 5ms/step - loss: 0.5019 - accuracy: 0.7535 - val_loss: 0.5190 - val_accuracy: 0.7402\n",
            "Epoch 25/40\n",
            "919/919 [==============================] - 5s 5ms/step - loss: 0.4977 - accuracy: 0.7557 - val_loss: 0.5191 - val_accuracy: 0.7391\n",
            "Epoch 26/40\n",
            "919/919 [==============================] - 5s 5ms/step - loss: 0.4947 - accuracy: 0.7561 - val_loss: 0.5190 - val_accuracy: 0.7415\n",
            "Epoch 27/40\n",
            "919/919 [==============================] - 5s 5ms/step - loss: 0.4951 - accuracy: 0.7572 - val_loss: 0.5201 - val_accuracy: 0.7383\n",
            "Epoch 28/40\n",
            "919/919 [==============================] - 5s 5ms/step - loss: 0.4960 - accuracy: 0.7566 - val_loss: 0.5189 - val_accuracy: 0.7402\n",
            "Epoch 29/40\n",
            "919/919 [==============================] - 5s 5ms/step - loss: 0.4940 - accuracy: 0.7588 - val_loss: 0.5201 - val_accuracy: 0.7412\n",
            "Epoch 30/40\n",
            "919/919 [==============================] - 5s 5ms/step - loss: 0.4962 - accuracy: 0.7563 - val_loss: 0.5201 - val_accuracy: 0.7405\n",
            "Epoch 31/40\n",
            "919/919 [==============================] - 5s 5ms/step - loss: 0.4932 - accuracy: 0.7591 - val_loss: 0.5189 - val_accuracy: 0.7412\n",
            "Epoch 32/40\n",
            "919/919 [==============================] - 5s 5ms/step - loss: 0.4955 - accuracy: 0.7576 - val_loss: 0.5202 - val_accuracy: 0.7379\n",
            "Epoch 33/40\n",
            "919/919 [==============================] - 5s 5ms/step - loss: 0.4926 - accuracy: 0.7600 - val_loss: 0.5194 - val_accuracy: 0.7407\n",
            "Epoch 34/40\n",
            "919/919 [==============================] - 5s 5ms/step - loss: 0.4911 - accuracy: 0.7586 - val_loss: 0.5194 - val_accuracy: 0.7394\n",
            "Epoch 35/40\n",
            "919/919 [==============================] - 5s 5ms/step - loss: 0.4912 - accuracy: 0.7600 - val_loss: 0.5201 - val_accuracy: 0.7406\n",
            "Epoch 36/40\n",
            "919/919 [==============================] - 5s 5ms/step - loss: 0.4881 - accuracy: 0.7624 - val_loss: 0.5188 - val_accuracy: 0.7419\n",
            "Epoch 37/40\n",
            "919/919 [==============================] - 5s 5ms/step - loss: 0.4910 - accuracy: 0.7598 - val_loss: 0.5193 - val_accuracy: 0.7393\n",
            "Epoch 38/40\n",
            "919/919 [==============================] - 5s 5ms/step - loss: 0.4906 - accuracy: 0.7587 - val_loss: 0.5190 - val_accuracy: 0.7401\n",
            "Epoch 39/40\n",
            "919/919 [==============================] - 5s 5ms/step - loss: 0.4883 - accuracy: 0.7611 - val_loss: 0.5225 - val_accuracy: 0.7379\n",
            "Epoch 40/40\n",
            "919/919 [==============================] - 5s 5ms/step - loss: 0.4877 - accuracy: 0.7608 - val_loss: 0.5192 - val_accuracy: 0.7410\n",
            "CPU times: user 4min 26s, sys: 27.1 s, total: 4min 53s\n",
            "Wall time: 3min 12s\n"
          ],
          "name": "stdout"
        }
      ]
    },
    {
      "cell_type": "code",
      "metadata": {
        "colab": {
          "base_uri": "https://localhost:8080/"
        },
        "id": "SDNNMWUTpKPE",
        "outputId": "4d8a8ae7-80c0-4806-93c0-be887844406a"
      },
      "source": [
        "print('Final training loss \\t', hist.history['loss'][-1])\n",
        "print('Final training accuracy ', hist.history['accuracy'][-1])"
      ],
      "execution_count": 107,
      "outputs": [
        {
          "output_type": "stream",
          "text": [
            "Final training loss \t 0.49033886194229126\n",
            "Final training accuracy  0.7594302892684937\n"
          ],
          "name": "stdout"
        }
      ]
    },
    {
      "cell_type": "code",
      "metadata": {
        "colab": {
          "base_uri": "https://localhost:8080/",
          "height": 609
        },
        "id": "qzGRBQnJNpgA",
        "outputId": "33bbd9f7-c518-433c-bd14-1cce4f9ae4b4"
      },
      "source": [
        "# Plot the loss and accuracy history graphs\n",
        "pd.DataFrame(hist.history).plot(figsize=(10,10))\n",
        "plt.grid(True)\n",
        "plt.show"
      ],
      "execution_count": 108,
      "outputs": [
        {
          "output_type": "execute_result",
          "data": {
            "text/plain": [
              "<function matplotlib.pyplot.show>"
            ]
          },
          "metadata": {
            "tags": []
          },
          "execution_count": 108
        },
        {
          "output_type": "display_data",
          "data": {
            "image/png": "[encoded data removed]",
            "text/plain": [
              "<Figure size 720x720 with 1 Axes>"
            ]
          },
          "metadata": {
            "tags": [],
            "needs_background": "light"
          }
        }
      ]
    },
    {
      "cell_type": "markdown",
      "metadata": {
        "id": "qguqy6tZpqBx"
      },
      "source": [
        "# *Model Evaluation*"
      ]
    },
    {
      "cell_type": "code",
      "metadata": {
        "colab": {
          "base_uri": "https://localhost:8080/"
        },
        "id": "kB71491BN7Mh",
        "outputId": "00c8396f-2ce6-4c7d-f8b7-be704753d2e7"
      },
      "source": [
        "accuracy_test = model.evaluate(X_test, y_test, verbose=2)\n",
        "print(accuracy_test)"
      ],
      "execution_count": 109,
      "outputs": [
        {
          "output_type": "stream",
          "text": [
            "1969/1969 - 5s - loss: 0.5251 - accuracy: 0.7384\n",
            "[0.5251381993293762, 0.7384285926818848]\n"
          ],
          "name": "stdout"
        }
      ]
    },
    {
      "cell_type": "code",
      "metadata": {
        "colab": {
          "base_uri": "https://localhost:8080/",
          "height": 513
        },
        "id": "snxMpGdVOO2E",
        "outputId": "ef4d21e2-d825-4a2f-b2e3-3c298d8c615d"
      },
      "source": [
        "# Confusion Matrix\n",
        "def plot_confusion_matrix(cm, \n",
        "                          classes, \n",
        "                          normalize=False,\n",
        "                          title='CM', \n",
        "                          cmap=plt.cm.Greens):\n",
        "# This function prints and plots the confusion matrix. Normalization can be applied by setting `normalize=True`\n",
        "\n",
        "    if normalize:\n",
        "        cm = cm.astype('float') / cm.sum(axis=1)[:, np.newaxis]\n",
        "        # print(\"Normalized confusion matrix\") # print(cm)\n",
        "\n",
        "    plt.imshow(cm, interpolation='nearest', cmap=cmap) \n",
        "    plt.title(title)\n",
        "    plt.colorbar()\n",
        "\n",
        "    tick_marks = np.arange(len(classes)) \n",
        "    plt.xticks(tick_marks, classes, rotation=45) \n",
        "    plt.yticks(tick_marks, classes)\n",
        "\n",
        "    fmt = '.2f' if normalize else 'd'\n",
        "    thresh = cm.max() / 2.\n",
        "    for i, j in itertools.product(range(cm.shape[0]), range(cm.shape[1])):\n",
        "        plt.text(j, i, format(cm[i, j], fmt), \n",
        "                 horizontalalignment=\"center\",\n",
        "                 color=\"white\" if cm[i, j] > thresh else \"black\")\n",
        "        plt.tight_layout() \n",
        "        plt.ylabel('True label') \n",
        "        plt.xlabel('Predicted label')\n",
        "\n",
        "# np.argmax Returns the indices of the maximum values along an axis. \n",
        "y_test_rounded = np.argmax(y_test, axis=1)\n",
        "y_train_rounded = np.argmax(y_train, axis=1)\n",
        "\n",
        "y_pred = model.predict(X_train)\n",
        "y_pred_rounded = np.argmax(y_pred, axis=1)\n",
        "\n",
        "cmResults = confusion_matrix(y_train_rounded, y_pred_rounded) \n",
        "accuracy = accuracy_score(y_train_rounded, y_pred_rounded)\n",
        "\n",
        "# Plot non-normalized confusion matrix \n",
        "class_names = ['Negative', 'Positive']\n",
        "plt.figure(figsize=(7,7));\n",
        "plot_confusion_matrix(cmResults, classes=class_names, title=str(\"nnlm-en-dim128\")+ \"\\n\" +\"Accuracy: \" + str((accuracy*100).round(1)) + \"%\" +\"\\n\"+\"Train Data\");"
      ],
      "execution_count": 110,
      "outputs": [
        {
          "output_type": "display_data",
          "data": {
            "image/png": "[encoded data removed]",
            "text/plain": [
              "<Figure size 504x504 with 2 Axes>"
            ]
          },
          "metadata": {
            "tags": [],
            "needs_background": "light"
          }
        }
      ]
    },
    {
      "cell_type": "code",
      "metadata": {
        "id": "NIAGtL5iR9GF"
      },
      "source": [
        "y_pred = model.predict(X_test)\n",
        "y_pred_rounded = np.argmax(y_pred, axis=1)\n",
        "cmResults = confusion_matrix(y_test_rounded, y_pred_rounded)\n",
        "accuracy = accuracy_score(y_test_rounded, y_pred_rounded)"
      ],
      "execution_count": 111,
      "outputs": []
    },
    {
      "cell_type": "code",
      "metadata": {
        "colab": {
          "base_uri": "https://localhost:8080/",
          "height": 513
        },
        "id": "eVtt9Oq7R_-J",
        "outputId": "1540117e-24ae-4b39-926c-4b5dc495ead8"
      },
      "source": [
        "# Plot non-normalized confusion matrix \n",
        "plt.figure(figsize=(7,7));\n",
        "plot_confusion_matrix(cmResults, classes=class_names, \n",
        "                      title=str(\"nnlm-en-dim128\")+ \"\\n\" +\"Accuracy: \" + str((accuracy*100).round(1)) + \"%\" +\"\\n\"+\"Test Data\",\n",
        "                      cmap=plt.cm.Blues);"
      ],
      "execution_count": 112,
      "outputs": [
        {
          "output_type": "display_data",
          "data": {
            "image/png": "[encoded data removed]",
            "text/plain": [
              "<Figure size 504x504 with 2 Axes>"
            ]
          },
          "metadata": {
            "tags": [],
            "needs_background": "light"
          }
        }
      ]
    },
    {
      "cell_type": "markdown",
      "metadata": {
        "id": "rVaAO4R4qHmm"
      },
      "source": [
        "# *Hyperparameter Tuning*"
      ]
    },
    {
      "cell_type": "code",
      "metadata": {
        "id": "VTghftpoq4wJ"
      },
      "source": [
        "from tensorflow.keras.optimizers import RMSprop"
      ],
      "execution_count": 113,
      "outputs": []
    },
    {
      "cell_type": "code",
      "metadata": {
        "id": "eqx2cNW5qKz4"
      },
      "source": [
        "# Optimiser: Use a different optimizer with the appropriate LR valu\n",
        "model.compile(loss='binary_crossentropy', optimizer=RMSprop(learning_rate=0.001), metrics=['accuracy'])"
      ],
      "execution_count": 114,
      "outputs": []
    },
    {
      "cell_type": "code",
      "metadata": {
        "colab": {
          "base_uri": "https://localhost:8080/"
        },
        "id": "LxWd7JKLrO2O",
        "outputId": "1a079f9d-9e52-459e-a240-da1a7390ed42"
      },
      "source": [
        "%%time\n",
        "hist = model.fit(X_train, y_train, epochs=40, batch_size=128, validation_split=0.2,verbose = 1)"
      ],
      "execution_count": 115,
      "outputs": [
        {
          "output_type": "stream",
          "text": [
            "Epoch 1/40\n",
            "919/919 [==============================] - 6s 6ms/step - loss: 0.4958 - accuracy: 0.7598 - val_loss: 0.5169 - val_accuracy: 0.7425\n",
            "Epoch 2/40\n",
            "919/919 [==============================] - 5s 5ms/step - loss: 0.4879 - accuracy: 0.7643 - val_loss: 0.5180 - val_accuracy: 0.7427\n",
            "Epoch 3/40\n",
            "919/919 [==============================] - 5s 5ms/step - loss: 0.4918 - accuracy: 0.7625 - val_loss: 0.5180 - val_accuracy: 0.7419\n",
            "Epoch 4/40\n",
            "919/919 [==============================] - 5s 6ms/step - loss: 0.4910 - accuracy: 0.7628 - val_loss: 0.5193 - val_accuracy: 0.7409\n",
            "Epoch 5/40\n",
            "919/919 [==============================] - 5s 5ms/step - loss: 0.4925 - accuracy: 0.7611 - val_loss: 0.5198 - val_accuracy: 0.7403\n",
            "Epoch 6/40\n",
            "919/919 [==============================] - 5s 6ms/step - loss: 0.4899 - accuracy: 0.7647 - val_loss: 0.5194 - val_accuracy: 0.7407\n",
            "Epoch 7/40\n",
            "919/919 [==============================] - 5s 6ms/step - loss: 0.4872 - accuracy: 0.7665 - val_loss: 0.5191 - val_accuracy: 0.7412\n",
            "Epoch 8/40\n",
            "919/919 [==============================] - 5s 6ms/step - loss: 0.4881 - accuracy: 0.7658 - val_loss: 0.5174 - val_accuracy: 0.7416\n",
            "Epoch 9/40\n",
            "919/919 [==============================] - 5s 6ms/step - loss: 0.4919 - accuracy: 0.7629 - val_loss: 0.5200 - val_accuracy: 0.7399\n",
            "Epoch 10/40\n",
            "919/919 [==============================] - 5s 5ms/step - loss: 0.4906 - accuracy: 0.7638 - val_loss: 0.5181 - val_accuracy: 0.7409\n",
            "Epoch 11/40\n",
            "919/919 [==============================] - 5s 5ms/step - loss: 0.4903 - accuracy: 0.7642 - val_loss: 0.5183 - val_accuracy: 0.7420\n",
            "Epoch 12/40\n",
            "919/919 [==============================] - 5s 5ms/step - loss: 0.4867 - accuracy: 0.7642 - val_loss: 0.5183 - val_accuracy: 0.7416\n",
            "Epoch 13/40\n",
            "919/919 [==============================] - 5s 6ms/step - loss: 0.4903 - accuracy: 0.7625 - val_loss: 0.5181 - val_accuracy: 0.7416\n",
            "Epoch 14/40\n",
            "919/919 [==============================] - 5s 6ms/step - loss: 0.4887 - accuracy: 0.7650 - val_loss: 0.5197 - val_accuracy: 0.7400\n",
            "Epoch 15/40\n",
            "919/919 [==============================] - 5s 6ms/step - loss: 0.4896 - accuracy: 0.7630 - val_loss: 0.5208 - val_accuracy: 0.7394\n",
            "Epoch 16/40\n",
            "919/919 [==============================] - 5s 6ms/step - loss: 0.4910 - accuracy: 0.7630 - val_loss: 0.5214 - val_accuracy: 0.7394\n",
            "Epoch 17/40\n",
            "919/919 [==============================] - 5s 5ms/step - loss: 0.4894 - accuracy: 0.7655 - val_loss: 0.5196 - val_accuracy: 0.7408\n",
            "Epoch 18/40\n",
            "919/919 [==============================] - 5s 6ms/step - loss: 0.4898 - accuracy: 0.7652 - val_loss: 0.5205 - val_accuracy: 0.7407\n",
            "Epoch 19/40\n",
            "919/919 [==============================] - 5s 6ms/step - loss: 0.4896 - accuracy: 0.7642 - val_loss: 0.5217 - val_accuracy: 0.7399\n",
            "Epoch 20/40\n",
            "919/919 [==============================] - 5s 6ms/step - loss: 0.4912 - accuracy: 0.7642 - val_loss: 0.5205 - val_accuracy: 0.7394\n",
            "Epoch 21/40\n",
            "919/919 [==============================] - 5s 6ms/step - loss: 0.4854 - accuracy: 0.7656 - val_loss: 0.5195 - val_accuracy: 0.7411\n",
            "Epoch 22/40\n",
            "919/919 [==============================] - 5s 5ms/step - loss: 0.4884 - accuracy: 0.7645 - val_loss: 0.5246 - val_accuracy: 0.7395\n",
            "Epoch 23/40\n",
            "919/919 [==============================] - 5s 6ms/step - loss: 0.4892 - accuracy: 0.7663 - val_loss: 0.5213 - val_accuracy: 0.7403\n",
            "Epoch 24/40\n",
            "919/919 [==============================] - 5s 6ms/step - loss: 0.4864 - accuracy: 0.7673 - val_loss: 0.5249 - val_accuracy: 0.7427\n",
            "Epoch 25/40\n",
            "919/919 [==============================] - 5s 6ms/step - loss: 0.4841 - accuracy: 0.7690 - val_loss: 0.5228 - val_accuracy: 0.7391\n",
            "Epoch 26/40\n",
            "919/919 [==============================] - 5s 6ms/step - loss: 0.4883 - accuracy: 0.7665 - val_loss: 0.5207 - val_accuracy: 0.7423\n",
            "Epoch 27/40\n",
            "919/919 [==============================] - 5s 5ms/step - loss: 0.4880 - accuracy: 0.7672 - val_loss: 0.5219 - val_accuracy: 0.7423\n",
            "Epoch 28/40\n",
            "919/919 [==============================] - 5s 5ms/step - loss: 0.4855 - accuracy: 0.7685 - val_loss: 0.5214 - val_accuracy: 0.7416\n",
            "Epoch 29/40\n",
            "919/919 [==============================] - 5s 6ms/step - loss: 0.4842 - accuracy: 0.7686 - val_loss: 0.5200 - val_accuracy: 0.7387\n",
            "Epoch 30/40\n",
            "919/919 [==============================] - 5s 5ms/step - loss: 0.4857 - accuracy: 0.7686 - val_loss: 0.5213 - val_accuracy: 0.7410\n",
            "Epoch 31/40\n",
            "919/919 [==============================] - 5s 6ms/step - loss: 0.4875 - accuracy: 0.7659 - val_loss: 0.5242 - val_accuracy: 0.7399\n",
            "Epoch 32/40\n",
            "919/919 [==============================] - 5s 6ms/step - loss: 0.4838 - accuracy: 0.7685 - val_loss: 0.5259 - val_accuracy: 0.7396\n",
            "Epoch 33/40\n",
            "919/919 [==============================] - 5s 6ms/step - loss: 0.4882 - accuracy: 0.7667 - val_loss: 0.5218 - val_accuracy: 0.7405\n",
            "Epoch 34/40\n",
            "919/919 [==============================] - 5s 6ms/step - loss: 0.4861 - accuracy: 0.7688 - val_loss: 0.5236 - val_accuracy: 0.7416\n",
            "Epoch 35/40\n",
            "919/919 [==============================] - 5s 5ms/step - loss: 0.4862 - accuracy: 0.7671 - val_loss: 0.5210 - val_accuracy: 0.7419\n",
            "Epoch 36/40\n",
            "919/919 [==============================] - 5s 6ms/step - loss: 0.4861 - accuracy: 0.7673 - val_loss: 0.5227 - val_accuracy: 0.7401\n",
            "Epoch 37/40\n",
            "919/919 [==============================] - 5s 6ms/step - loss: 0.4824 - accuracy: 0.7702 - val_loss: 0.5224 - val_accuracy: 0.7403\n",
            "Epoch 38/40\n",
            "919/919 [==============================] - 5s 6ms/step - loss: 0.4865 - accuracy: 0.7668 - val_loss: 0.5243 - val_accuracy: 0.7391\n",
            "Epoch 39/40\n",
            "919/919 [==============================] - 5s 6ms/step - loss: 0.4847 - accuracy: 0.7692 - val_loss: 0.5205 - val_accuracy: 0.7385\n",
            "Epoch 40/40\n",
            "919/919 [==============================] - 5s 6ms/step - loss: 0.4848 - accuracy: 0.7693 - val_loss: 0.5214 - val_accuracy: 0.7390\n",
            "CPU times: user 4min 46s, sys: 22.3 s, total: 5min 8s\n",
            "Wall time: 3min 24s\n"
          ],
          "name": "stdout"
        }
      ]
    },
    {
      "cell_type": "code",
      "metadata": {
        "colab": {
          "base_uri": "https://localhost:8080/"
        },
        "id": "2g6tVoETsqfs",
        "outputId": "f810ccc0-e074-4bf8-8b6d-bc9725f9917a"
      },
      "source": [
        "accuracy_test = model.evaluate(X_test, y_test, verbose=2)\n",
        "print(accuracy_test)"
      ],
      "execution_count": 116,
      "outputs": [
        {
          "output_type": "stream",
          "text": [
            "1969/1969 - 5s - loss: 0.5276 - accuracy: 0.7356\n",
            "[0.5276452302932739, 0.7356349229812622]\n"
          ],
          "name": "stdout"
        }
      ]
    },
    {
      "cell_type": "code",
      "metadata": {
        "colab": {
          "base_uri": "https://localhost:8080/"
        },
        "id": "WOLX7xN4sx9V",
        "outputId": "1b46be9b-91ac-4759-e8a5-cf22c118fafe"
      },
      "source": [
        "# Batch Size: Change the value of batch size in model training\n",
        "hist = model.fit(X_train, y_train, epochs=40, batch_size=1000, validation_split=0.2,verbose = 1)"
      ],
      "execution_count": 117,
      "outputs": [
        {
          "output_type": "stream",
          "text": [
            "Epoch 1/40\n",
            "118/118 [==============================] - 1s 10ms/step - loss: 0.4805 - accuracy: 0.7715 - val_loss: 0.5234 - val_accuracy: 0.7395\n",
            "Epoch 2/40\n",
            "118/118 [==============================] - 1s 9ms/step - loss: 0.4785 - accuracy: 0.7725 - val_loss: 0.5218 - val_accuracy: 0.7402\n",
            "Epoch 3/40\n",
            "118/118 [==============================] - 1s 9ms/step - loss: 0.4778 - accuracy: 0.7734 - val_loss: 0.5232 - val_accuracy: 0.7389\n",
            "Epoch 4/40\n",
            "118/118 [==============================] - 1s 9ms/step - loss: 0.4756 - accuracy: 0.7756 - val_loss: 0.5224 - val_accuracy: 0.7395\n",
            "Epoch 5/40\n",
            "118/118 [==============================] - 1s 9ms/step - loss: 0.4766 - accuracy: 0.7749 - val_loss: 0.5243 - val_accuracy: 0.7383\n",
            "Epoch 6/40\n",
            "118/118 [==============================] - 1s 9ms/step - loss: 0.4760 - accuracy: 0.7743 - val_loss: 0.5231 - val_accuracy: 0.7381\n",
            "Epoch 7/40\n",
            "118/118 [==============================] - 1s 9ms/step - loss: 0.4763 - accuracy: 0.7735 - val_loss: 0.5225 - val_accuracy: 0.7382\n",
            "Epoch 8/40\n",
            "118/118 [==============================] - 1s 9ms/step - loss: 0.4756 - accuracy: 0.7751 - val_loss: 0.5248 - val_accuracy: 0.7387\n",
            "Epoch 9/40\n",
            "118/118 [==============================] - 1s 9ms/step - loss: 0.4734 - accuracy: 0.7772 - val_loss: 0.5245 - val_accuracy: 0.7391\n",
            "Epoch 10/40\n",
            "118/118 [==============================] - 1s 9ms/step - loss: 0.4738 - accuracy: 0.7764 - val_loss: 0.5252 - val_accuracy: 0.7396\n",
            "Epoch 11/40\n",
            "118/118 [==============================] - 1s 9ms/step - loss: 0.4758 - accuracy: 0.7740 - val_loss: 0.5270 - val_accuracy: 0.7397\n",
            "Epoch 12/40\n",
            "118/118 [==============================] - 1s 9ms/step - loss: 0.4747 - accuracy: 0.7762 - val_loss: 0.5269 - val_accuracy: 0.7384\n",
            "Epoch 13/40\n",
            "118/118 [==============================] - 1s 9ms/step - loss: 0.4734 - accuracy: 0.7773 - val_loss: 0.5236 - val_accuracy: 0.7380\n",
            "Epoch 14/40\n",
            "118/118 [==============================] - 1s 9ms/step - loss: 0.4741 - accuracy: 0.7770 - val_loss: 0.5240 - val_accuracy: 0.7397\n",
            "Epoch 15/40\n",
            "118/118 [==============================] - 1s 9ms/step - loss: 0.4723 - accuracy: 0.7769 - val_loss: 0.5269 - val_accuracy: 0.7379\n",
            "Epoch 16/40\n",
            "118/118 [==============================] - 1s 9ms/step - loss: 0.4734 - accuracy: 0.7766 - val_loss: 0.5258 - val_accuracy: 0.7383\n",
            "Epoch 17/40\n",
            "118/118 [==============================] - 1s 9ms/step - loss: 0.4722 - accuracy: 0.7767 - val_loss: 0.5266 - val_accuracy: 0.7385\n",
            "Epoch 18/40\n",
            "118/118 [==============================] - 1s 9ms/step - loss: 0.4724 - accuracy: 0.7770 - val_loss: 0.5274 - val_accuracy: 0.7380\n",
            "Epoch 19/40\n",
            "118/118 [==============================] - 1s 9ms/step - loss: 0.4716 - accuracy: 0.7778 - val_loss: 0.5249 - val_accuracy: 0.7373\n",
            "Epoch 20/40\n",
            "118/118 [==============================] - 1s 9ms/step - loss: 0.4707 - accuracy: 0.7772 - val_loss: 0.5283 - val_accuracy: 0.7360\n",
            "Epoch 21/40\n",
            "118/118 [==============================] - 1s 10ms/step - loss: 0.4717 - accuracy: 0.7770 - val_loss: 0.5264 - val_accuracy: 0.7364\n",
            "Epoch 22/40\n",
            "118/118 [==============================] - 1s 9ms/step - loss: 0.4711 - accuracy: 0.7788 - val_loss: 0.5270 - val_accuracy: 0.7383\n",
            "Epoch 23/40\n",
            "118/118 [==============================] - 1s 9ms/step - loss: 0.4721 - accuracy: 0.7765 - val_loss: 0.5275 - val_accuracy: 0.7385\n",
            "Epoch 24/40\n",
            "118/118 [==============================] - 1s 9ms/step - loss: 0.4709 - accuracy: 0.7779 - val_loss: 0.5273 - val_accuracy: 0.7367\n",
            "Epoch 25/40\n",
            "118/118 [==============================] - 1s 9ms/step - loss: 0.4708 - accuracy: 0.7788 - val_loss: 0.5267 - val_accuracy: 0.7383\n",
            "Epoch 26/40\n",
            "118/118 [==============================] - 1s 9ms/step - loss: 0.4706 - accuracy: 0.7789 - val_loss: 0.5272 - val_accuracy: 0.7378\n",
            "Epoch 27/40\n",
            "118/118 [==============================] - 1s 9ms/step - loss: 0.4698 - accuracy: 0.7779 - val_loss: 0.5284 - val_accuracy: 0.7378\n",
            "Epoch 28/40\n",
            "118/118 [==============================] - 1s 9ms/step - loss: 0.4697 - accuracy: 0.7793 - val_loss: 0.5290 - val_accuracy: 0.7379\n",
            "Epoch 29/40\n",
            "118/118 [==============================] - 1s 9ms/step - loss: 0.4694 - accuracy: 0.7791 - val_loss: 0.5304 - val_accuracy: 0.7378\n",
            "Epoch 30/40\n",
            "118/118 [==============================] - 1s 9ms/step - loss: 0.4709 - accuracy: 0.7789 - val_loss: 0.5281 - val_accuracy: 0.7384\n",
            "Epoch 31/40\n",
            "118/118 [==============================] - 1s 9ms/step - loss: 0.4687 - accuracy: 0.7790 - val_loss: 0.5281 - val_accuracy: 0.7371\n",
            "Epoch 32/40\n",
            "118/118 [==============================] - 1s 9ms/step - loss: 0.4696 - accuracy: 0.7793 - val_loss: 0.5262 - val_accuracy: 0.7378\n",
            "Epoch 33/40\n",
            "118/118 [==============================] - 1s 9ms/step - loss: 0.4700 - accuracy: 0.7787 - val_loss: 0.5301 - val_accuracy: 0.7379\n",
            "Epoch 34/40\n",
            "118/118 [==============================] - 1s 9ms/step - loss: 0.4688 - accuracy: 0.7788 - val_loss: 0.5295 - val_accuracy: 0.7377\n",
            "Epoch 35/40\n",
            "118/118 [==============================] - 1s 9ms/step - loss: 0.4682 - accuracy: 0.7803 - val_loss: 0.5337 - val_accuracy: 0.7375\n",
            "Epoch 36/40\n",
            "118/118 [==============================] - 1s 9ms/step - loss: 0.4677 - accuracy: 0.7807 - val_loss: 0.5328 - val_accuracy: 0.7382\n",
            "Epoch 37/40\n",
            "118/118 [==============================] - 1s 9ms/step - loss: 0.4684 - accuracy: 0.7810 - val_loss: 0.5280 - val_accuracy: 0.7372\n",
            "Epoch 38/40\n",
            "118/118 [==============================] - 1s 9ms/step - loss: 0.4668 - accuracy: 0.7816 - val_loss: 0.5322 - val_accuracy: 0.7380\n",
            "Epoch 39/40\n",
            "118/118 [==============================] - 1s 9ms/step - loss: 0.4671 - accuracy: 0.7811 - val_loss: 0.5303 - val_accuracy: 0.7376\n",
            "Epoch 40/40\n",
            "118/118 [==============================] - 1s 9ms/step - loss: 0.4672 - accuracy: 0.7806 - val_loss: 0.5293 - val_accuracy: 0.7365\n"
          ],
          "name": "stdout"
        }
      ]
    },
    {
      "cell_type": "code",
      "metadata": {
        "colab": {
          "base_uri": "https://localhost:8080/"
        },
        "id": "9SOM01WftUu6",
        "outputId": "f252fdff-1c67-4467-afbb-6f0fd11d6359"
      },
      "source": [
        "accuracy_test = model.evaluate(X_test, y_test, verbose=2)\n",
        "print(accuracy_test)"
      ],
      "execution_count": 118,
      "outputs": [
        {
          "output_type": "stream",
          "text": [
            "1969/1969 - 5s - loss: 0.5354 - accuracy: 0.7331\n",
            "[0.5353732109069824, 0.7331428527832031]\n"
          ],
          "name": "stdout"
        }
      ]
    }
  ]
}